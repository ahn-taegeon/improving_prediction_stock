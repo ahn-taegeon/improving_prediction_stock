{
 "cells": [
  {
   "cell_type": "code",
   "execution_count": 1,
   "id": "327948d5-5e3e-4a94-a2d2-d734830290ad",
   "metadata": {},
   "outputs": [
    {
     "name": "stdout",
     "output_type": "stream",
     "text": [
      "Requirement already satisfied: lxml in c:\\users\\atg72\\anaconda3\\lib\\site-packages (5.2.1)\n",
      "Note: you may need to restart the kernel to use updated packages.\n"
     ]
    }
   ],
   "source": [
    "pip install lxml"
   ]
  },
  {
   "cell_type": "code",
   "execution_count": 5,
   "id": "c27597fb-77bf-4065-9a82-93339c52808f",
   "metadata": {},
   "outputs": [
    {
     "name": "stdin",
     "output_type": "stream",
     "text": [
      "시작 페이지를 입력하세요:  134\n",
      "종료 페이지를 입력하세요:  3000\n"
     ]
    },
    {
     "name": "stderr",
     "output_type": "stream",
     "text": [
      "100%|██████████████████████████████████████████████████████████████████████████████| 2867/2867 [07:55<00:00,  6.02it/s]\n"
     ]
    }
   ],
   "source": [
    "import pandas as pd\n",
    "import requests\n",
    "import time\n",
    "from tqdm import trange\n",
    "from bs4 import BeautifulSoup as bs\n",
    "\n",
    "headers = {\"user-agent\": \"Mozilla/5.0\"}\n",
    "\n",
    "def get_url(item_code, page_no=1):\n",
    "    url = f\"https://finance.naver.com/item/board.nhn\"\n",
    "    url = f\"{url}?code={item_code}&page={page_no}\"\n",
    "    return url\n",
    "\n",
    "def get_one_page(item_code, page_no):\n",
    "    \"한 페이지 수집\"\n",
    "    # 종목 URL 만들기\n",
    "    url = get_url(item_code, page_no)\n",
    "    # requests\n",
    "    response = requests.get(url, headers=headers)\n",
    "    soup = bs(response.text, 'lxml')\n",
    "\n",
    "    # 테이블에서 각 행(row) 추출\n",
    "    rows = soup.select('table.type2 > tbody > tr')\n",
    "    \n",
    "    data = []\n",
    "    for row in rows:\n",
    "        columns = row.find_all('td')\n",
    "        if len(columns) > 1:  # 유효한 행만 선택\n",
    "            date = columns[0].text.strip()\n",
    "            title = columns[1].text.strip()\n",
    "            author = columns[2].text.strip()\n",
    "            view = columns[3].text.strip()\n",
    "            upvotes = columns[4].text.strip()\n",
    "            downvotes = columns[5].text.strip()\n",
    "\n",
    "            data.append([date, title, author, view, upvotes, downvotes])\n",
    "    \n",
    "    # 데이터프레임으로 변환\n",
    "    df = pd.DataFrame(data, columns=[\"날짜\", \"제목\", \"작성자\", \"조회\", \"공감\", \"비공감\"])\n",
    "    \n",
    "    return df\n",
    "\n",
    "def get_last_page(item_code):\n",
    "    url = get_url(item_code)\n",
    "    response = requests.get(url, headers=headers)\n",
    "    soup = bs(response.text, 'lxml')\n",
    "    last_page = int(soup.select(\"#content > div.section.inner_sub > table > tbody > tr > td > table > tbody > tr > td.pgRR > a\")[-1]['href'].split('=')[-1])\n",
    "    return last_page\n",
    "\n",
    "def get_all_pages(item_code, start_page=1, end_page=None):\n",
    "    \"지정된 페이지 범위만 수집\"\n",
    "    if end_page is None:  # end_page가 설정되지 않았다면 마지막 페이지까지\n",
    "        end_page = get_last_page(item_code)\n",
    "    \n",
    "    page_list = []\n",
    " \n",
    "    # 지정된 범위의 페이지 수집\n",
    "    for page_num in trange(start_page, end_page + 1):\n",
    "        page = get_one_page(item_code, page_num)\n",
    "        page_list.append(page)\n",
    "        time.sleep(0.1)\n",
    "    \n",
    "    # 모든 페이지 하나의 데이터프레임으로 합치기\n",
    "    df_all_page = pd.concat(page_list)\n",
    "    # 조회, 공감, 비공감 열에서 숫자가 아닌 값을 NaN으로 처리하고, NaN 값을 포함한 행 제거\n",
    "    df_all_page['조회'] = pd.to_numeric(df_all_page['조회'], errors='coerce')\n",
    "    df_all_page['공감'] = pd.to_numeric(df_all_page['공감'], errors='coerce')\n",
    "    df_all_page['비공감'] = pd.to_numeric(df_all_page['비공감'], errors='coerce')\n",
    "    df_all_page = df_all_page.dropna(subset=['조회', '공감', '비공감'])\n",
    "\n",
    "    # 인덱스 리셋\n",
    "    df_all_page = df_all_page.reset_index(drop=True)\n",
    "\n",
    "    return df_all_page\n",
    "\n",
    "# 사용 예시\n",
    "item_code = '005380'  # 현대차\n",
    "start_page = int(input(\"시작 페이지를 입력하세요: \"))\n",
    "end_page = int(input(\"종료 페이지를 입력하세요: \"))\n",
    "\n",
    "# 지정한 범위의 페이지에서만 크롤링 수행\n",
    "df_all = get_all_pages(item_code, start_page=start_page, end_page=end_page)\n",
    "df_all.to_excel('bionote.xlsx', index=False)\n"
   ]
  }
 ],
 "metadata": {
  "kernelspec": {
   "display_name": "Python 3 (ipykernel)",
   "language": "python",
   "name": "python3"
  },
  "language_info": {
   "codemirror_mode": {
    "name": "ipython",
    "version": 3
   },
   "file_extension": ".py",
   "mimetype": "text/x-python",
   "name": "python",
   "nbconvert_exporter": "python",
   "pygments_lexer": "ipython3",
   "version": "3.12.4"
  }
 },
 "nbformat": 4,
 "nbformat_minor": 5
}
